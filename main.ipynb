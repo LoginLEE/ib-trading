{
 "cells": [
  {
   "cell_type": "code",
   "execution_count": 1,
   "metadata": {},
   "outputs": [
    {
     "name": "stderr",
     "output_type": "stream",
     "text": [
      "ERROR -1 2104 Market data farm connection is OK:usfarm.nj\n",
      "ERROR -1 2104 Market data farm connection is OK:usfuture\n",
      "ERROR -1 2104 Market data farm connection is OK:cashfarm\n",
      "ERROR -1 2104 Market data farm connection is OK:usfarm\n",
      "ERROR -1 2106 HMDS data farm connection is OK:ushmds.nj\n",
      "ERROR -1 2106 HMDS data farm connection is OK:cashhmds\n",
      "ERROR -1 2106 HMDS data farm connection is OK:ushmds\n",
      "ERROR -1 2158 Sec-def data farm connection is OK:secdefnj\n"
     ]
    },
    {
     "name": "stdout",
     "output_type": "stream",
     "text": [
      "waiting for connection\n",
      "The next valid order id is:  7\n",
      "connected\n",
      "\n",
      "openOrder id: 7 AAPL STK @ SMART : SELL LMT 2.0 Submitted\n",
      "orderStatus - orderid: 7 status: Submitted filled 0.0 remaining 2.0 lastFillPrice 0.0\n",
      "openOrder id: 7 AAPL STK @ SMART : SELL LMT 2.0 Submitted\n",
      "orderStatus - orderid: 7 status: Submitted filled 0.0 remaining 2.0 lastFillPrice 0.0\n",
      "Order Executed:  -1 AAPL STK USD 0000db5b.64c1154d.01.01 7 2.0 2\n",
      "openOrder id: 7 AAPL STK @ SMART : SELL LMT 2.0 Filled\n",
      "orderStatus - orderid: 7 status: Filled filled 2.0 remaining 0.0 lastFillPrice 194.26\n",
      "openOrder id: 7 AAPL STK @ SMART : SELL LMT 2.0 Filled\n",
      "orderStatus - orderid: 7 status: Filled filled 2.0 remaining 0.0 lastFillPrice 194.26\n"
     ]
    },
    {
     "name": "stderr",
     "output_type": "stream",
     "text": [
      "ERROR 7 10148 OrderId 7 that needs to be cancelled cannot be cancelled, state: Filled.\n"
     ]
    },
    {
     "name": "stdout",
     "output_type": "stream",
     "text": [
      "cancelling order\n"
     ]
    }
   ],
   "source": [
    "from ibapi.client import EClient\n",
    "from ibapi.wrapper import EWrapper\n",
    "from ibapi.contract import Contract\n",
    "from ibapi.order import *\n",
    "\n",
    "import threading\n",
    "import time\n",
    "\n",
    "class IBapi(EWrapper, EClient):\n",
    "\tdef __init__(self):\n",
    "\t\tEClient.__init__(self, self)\n",
    "\t\n",
    "\tdef nextValidId(self, orderId: int):\n",
    "\t\tsuper().nextValidId(orderId)\n",
    "\t\tself.nextorderId = orderId\n",
    "\t\tprint('The next valid order id is: ', self.nextorderId)\n",
    "\n",
    "\tdef orderStatus(self, orderId, status, filled, remaining, avgFullPrice, permId, parentId, lastFillPrice, clientId, whyHeld, mktCapPrice):\n",
    "\t\tprint('orderStatus - orderid:', orderId, 'status:', status, 'filled', filled, 'remaining', remaining, 'lastFillPrice', lastFillPrice)\n",
    "\t\n",
    "\tdef openOrder(self, orderId, contract, order, orderState):\n",
    "\t\tprint('openOrder id:', orderId, contract.symbol, contract.secType, '@', contract.exchange, ':', order.action, order.orderType, order.totalQuantity, orderState.status)\n",
    "\n",
    "\tdef execDetails(self, reqId, contract, execution):\n",
    "\t\tprint('Order Executed: ', reqId, contract.symbol, contract.secType, contract.currency, execution.execId, execution.orderId, execution.shares, execution.lastLiquidity)\n",
    "\n",
    "\n",
    "def run_loop():\n",
    "\tapp.run()\n",
    "\n",
    "contract = Contract()\n",
    "contract.symbol = \"AAPL\" # apple\n",
    "contract.secType = \"STK\" # stk stand for stock\n",
    "contract.currency = \"USD\" \n",
    "contract.exchange = \"SMART\"\n",
    "\n",
    "app = IBapi()\n",
    "app.connect('127.0.0.1', 7496, 123)\n",
    "\n",
    "app.nextorderId = None\n",
    "\n",
    "# print(\"Next Order ID: \", app.nextValidId(0))\n",
    "\n",
    "#Start the socket in a thread\n",
    "api_thread = threading.Thread(target=run_loop, daemon=True)\n",
    "api_thread.start()\n",
    "\n",
    "#Check if the API is connected via orderid\n",
    "while True:\n",
    "\tif isinstance(app.nextorderId, int):\n",
    "\t\tprint('connected')\n",
    "\t\tprint()\n",
    "\t\tbreak\n",
    "\telse:\n",
    "\t\tprint('waiting for connection')\n",
    "\t\ttime.sleep(5)\n",
    "\n",
    "#Create order object\n",
    "order = Order()\n",
    "order.action = 'SELL'\n",
    "order.totalQuantity = 2\n",
    "order.orderType = 'LMT'\n",
    "order.lmtPrice = 194.26\n",
    "order.eTradeOnly = False\n",
    "order.firmQuoteOnly = False\n",
    "\n",
    "#Place order\n",
    "app.placeOrder(app.nextorderId, contract, order)\n",
    "#app.nextorderId += 1\n",
    "\n",
    "time.sleep(30)\n",
    "\n",
    "#Cancel order \n",
    "print('cancelling order')\n",
    "app.cancelOrder(app.nextorderId)\n",
    "\n",
    "time.sleep(3)\n",
    "app.disconnect()"
   ]
  },
  {
   "cell_type": "code",
   "execution_count": null,
   "metadata": {},
   "outputs": [],
   "source": []
  }
 ],
 "metadata": {
  "kernelspec": {
   "display_name": "ib",
   "language": "python",
   "name": "python3"
  },
  "language_info": {
   "codemirror_mode": {
    "name": "ipython",
    "version": 3
   },
   "file_extension": ".py",
   "mimetype": "text/x-python",
   "name": "python",
   "nbconvert_exporter": "python",
   "pygments_lexer": "ipython3",
   "version": "3.10.12"
  },
  "orig_nbformat": 4
 },
 "nbformat": 4,
 "nbformat_minor": 2
}
