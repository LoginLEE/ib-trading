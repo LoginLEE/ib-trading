{
 "cells": [
  {
   "cell_type": "code",
   "execution_count": 2,
   "metadata": {},
   "outputs": [
    {
     "name": "stderr",
     "output_type": "stream",
     "text": [
      "21:25:32,737 ibapi.client INFO sent startApi\n",
      "21:25:32,737 ibapi.client INFO REQUEST startApi {}\n",
      "21:25:32,737 ibapi.client INFO SENDING startApi b'\\x00\\x00\\x00\\x0871\\x002\\x000\\x00\\x00'\n",
      "21:25:32,737 root INFO Connected\n",
      "21:25:32,738 root INFO Waiting for thread to finish ...\n",
      "21:25:32,743 ibapi.wrapper INFO ANSWER nextValidId {'orderId': 1}\n",
      "21:25:32,744 root INFO nextValidId: 1\n",
      "21:25:32,744 ibapi.client INFO REQUEST reqContractDetails {'reqId': 1, 'contract': 2124655795536: 0,AAPL,STK,,0.0,,,SMART,,USD,,,False,,combo:}\n",
      "21:25:32,744 ibapi.client INFO SENDING reqContractDetails b'\\x00\\x00\\x00)9\\x008\\x001\\x000\\x00AAPL\\x00STK\\x00\\x000.0\\x00\\x00\\x00SMART\\x00\\x00USD\\x00\\x00\\x000\\x00\\x00\\x00'\n",
      "21:25:32,744 ibapi.wrapper INFO ANSWER managedAccounts {'accountsList': 'U10352388'}\n",
      "21:25:32,746 ibapi.wrapper INFO ANSWER error {'reqId': -1, 'errorCode': 2104, 'errorString': 'Market data farm connection is OK:usfarm.nj'}\n",
      "21:25:32,746 ibapi.wrapper ERROR ERROR -1 2104 Market data farm connection is OK:usfarm.nj\n",
      "21:25:32,746 ibapi.wrapper INFO ANSWER error {'reqId': -1, 'errorCode': 2104, 'errorString': 'Market data farm connection is OK:cashfarm'}\n",
      "21:25:32,746 ibapi.wrapper ERROR ERROR -1 2104 Market data farm connection is OK:cashfarm\n",
      "21:25:32,746 ibapi.wrapper INFO ANSWER error {'reqId': -1, 'errorCode': 2104, 'errorString': 'Market data farm connection is OK:usfarm'}\n",
      "21:25:32,746 ibapi.wrapper ERROR ERROR -1 2104 Market data farm connection is OK:usfarm\n",
      "21:25:32,746 ibapi.wrapper INFO ANSWER error {'reqId': -1, 'errorCode': 2106, 'errorString': 'HMDS data farm connection is OK:ushmds'}\n",
      "21:25:32,746 ibapi.wrapper ERROR ERROR -1 2106 HMDS data farm connection is OK:ushmds\n",
      "21:25:32,746 ibapi.wrapper INFO ANSWER error {'reqId': -1, 'errorCode': 2158, 'errorString': 'Sec-def data farm connection is OK:secdefnj'}\n",
      "21:25:32,746 ibapi.wrapper ERROR ERROR -1 2158 Sec-def data farm connection is OK:secdefnj\n",
      "21:25:33,152 ibapi.wrapper INFO ANSWER contractDetails {'reqId': 1, 'contractDetails': 2124655797120: 265598,AAPL,STK,,0.0,,,SMART,NASDAQ,USD,AAPL,NMS,False,,combo:,NMS,0.01,ACTIVETIM,AD,ADJUST,ALERT,ALGO,ALLOC,AON,AVGCOST,BASKET,BENCHPX,CASHQTY,COND,CONDORDER,DARKONLY,DARKPOLL,DAY,DEACT,DEACTDIS,DEACTEOD,DIS,DUR,GAT,GTC,GTD,GTT,HID,IBKRATS,ICE,IMB,IOC,LIT,LMT,LOC,MIDPX,MIT,MKT,MOC,MTL,NGCOMB,NODARK,NONALGO,OCA,OPG,OPGREROUT,PEGBENCH,PEGMID,POSTATS,POSTONLY,PREOPGRTH,PRICECHK,REL,REL2MID,RELPCTOFS,RPI,RTH,SCALE,SCALEODD,SCALERST,SIZECHK,SNAPMID,SNAPMKT,SNAPREL,STP,STPLMT,SWEEP,TRAIL,TRAILLIT,TRAILLMT,TRAILMIT,WHATIF,SMART,AMEX,NYSE,CBOE,PHLX,ISE,CHX,ARCA,ISLAND,DRCTEDGE,BEX,BATS,EDGEA,CSFBALGO,JEFFALGO,BYX,IEX,EDGX,FOXRIVER,PEARL,NYSENAT,LTSE,MEMX,TPLUS1,IBEOS,OVERNIGHT,PSX,1,0,APPLE INC,,Technology,Computers,Computers,US/Eastern,20230807:0400-20230807:2000;20230808:0400-20230808:2000;20230809:0400-20230809:2000;20230810:0400-20230810:2000;20230811:0400-20230811:2000,20230807:0930-20230807:1600;20230808:0930-20230808:1600;20230809:0930-20230809:1600;20230810:0930-20230810:1600;20230811:0930-20230811:1600,,0,100,,,26,26,26,26,26,26,26,26,26,26,26,26,26,26,26,26,26,26,26,26,26,26,26,26,26,26,26,1,[2124655798752: ISIN=US0378331005;],,COMMON,,,,,,False,False,0,False,,,,,False,}\n",
      "21:25:33,152 ibapi.client INFO REQUEST reqHeadTimeStamp {'reqId': 2, 'contract': 2124655798704: 265598,AAPL,STK,,0.0,,,SMART,NASDAQ,USD,AAPL,NMS,False,,combo:, 'whatToShow': 'TRADES', 'useRTH': 0, 'formatDate': 1}\n",
      "21:25:33,152 ibapi.client INFO SENDING reqHeadTimeStamp b'\\x00\\x00\\x00C87\\x002\\x00265598\\x00AAPL\\x00STK\\x00\\x000.0\\x00\\x00\\x00SMART\\x00NASDAQ\\x00USD\\x00AAPL\\x00NMS\\x000\\x000\\x00TRADES\\x001\\x00'\n",
      "21:25:33,369 root INFO Head Timestamp for 265598,AAPL,STK,,0.0,,,SMART,NASDAQ,USD,AAPL,NMS,False,,combo: is 1980-12-12 14:30:00+00:00\n",
      "21:25:33,369 ibapi.client INFO REQUEST reqHistoricalData {'reqId': 3, 'contract': 2124655798704: 265598,AAPL,STK,,0.0,,,SMART,NASDAQ,USD,AAPL,NMS,False,,combo:, 'endDateTime': '20230807 21:25:32 UTC', 'durationStr': '86400 S', 'barSizeSetting': '1 hour', 'whatToShow': 'TRADES', 'useRTH': False, 'formatDate': 1, 'keepUpToDate': False, 'chartOptions': []}\n",
      "21:25:33,369 ibapi.client INFO SENDING reqHistoricalData b'\\x00\\x00\\x00k20\\x003\\x00265598\\x00AAPL\\x00STK\\x00\\x000.0\\x00\\x00\\x00SMART\\x00NASDAQ\\x00USD\\x00AAPL\\x00NMS\\x000\\x0020230807 21:25:32 UTC\\x001 hour\\x0086400 S\\x000\\x00TRADES\\x001\\x000\\x00\\x00'\n",
      "21:25:33,817 ibapi.wrapper INFO ANSWER error {'reqId': 3, 'errorCode': 2176, 'errorString': 'Warning: Your API version does not support fractional share size rules. Please upgrade to a minimum version 163. Trimmed value 198979.01 to 198979'}\n",
      "21:25:33,818 ibapi.wrapper ERROR ERROR 3 2176 Warning: Your API version does not support fractional share size rules. Please upgrade to a minimum version 163. Trimmed value 198979.01 to 198979\n",
      "21:25:33,818 root ERROR Error. Id: 3 Code 2176 Msg: Warning: Your API version does not support fractional share size rules. Please upgrade to a minimum version 163. Trimmed value 198979.01 to 198979\n",
      "21:25:33,818 root INFO Sending code 0\n",
      "21:25:33,818 root INFO Received code 0\n",
      "21:25:33,818 ibapi.wrapper INFO ANSWER historicalDataEnd {'reqId': 3, 'start': '20230806  21:25:32', 'end': '20230807  21:25:32'}\n",
      "21:25:33,818 ibapi.client INFO disconnecting\n",
      "21:25:33,818 root INFO historicalDataEnd: 3 20230806  21:25:32 20230807  21:25:32\n",
      "21:25:33,818 root INFO All requests for 2023-08-07 21:25:32.692752+00:00 complete.\n",
      "21:25:33,818 ibapi.client INFO disconnecting\n",
      "21:25:33,818 ibapi.wrapper INFO ANSWER connectionClosed {}\n",
      "21:25:33,818 ibapi.wrapper INFO ANSWER connectionClosed {}\n",
      "Exception in thread Thread-2 (run):\n",
      "Traceback (most recent call last):\n",
      "  File \"c:\\Users\\edmundlylee\\.conda\\envs\\ib\\lib\\threading.py\", line 1016, in _bootstrap_inner\n",
      "    self.run()\n",
      "  File \"c:\\Users\\edmundlylee\\.conda\\envs\\ib\\lib\\threading.py\", line 953, in run\n",
      "    self._target(*self._args, **self._kwargs)\n",
      "  File \"c:\\Users\\edmundlylee\\.conda\\envs\\ib\\lib\\site-packages\\ibapi\\client.py\", line 263, in run\n",
      "    self.decoder.interpret(fields)\n",
      "  File \"c:\\Users\\edmundlylee\\.conda\\envs\\ib\\lib\\site-packages\\ibapi\\decoder.py\", line 1296, in interpret\n",
      "    handleInfo.processMeth(self, iter(fields))\n",
      "  File \"c:\\Users\\edmundlylee\\.conda\\envs\\ib\\lib\\site-packages\\ibapi\\decoder.py\", line 522, in processHistoricalDataMsg\n",
      "    self.wrapper.historicalDataEnd(reqId, startDateStr, endDateStr)\n",
      "  File \"c:\\Users\\edmundlylee\\Documents\\GitHub\\ib-trading\\ib-scripts-main\\src\\download_bars.py\", line 229, in historicalDataEnd\n",
      "    self.handle_end(reqId, ts)\n",
      "  File \"c:\\Users\\edmundlylee\\Documents\\GitHub\\ib-trading\\ib-scripts-main\\src\\download_bars.py\", line 236, in handle_end\n",
      "    self.save_data(self.requests[rid], bars)\n",
      "  File \"c:\\Users\\edmundlylee\\Documents\\GitHub\\ib-trading\\ib-scripts-main\\src\\download_bars.py\", line 106, in save_data\n",
      "    data = [\n",
      "  File \"c:\\Users\\edmundlylee\\Documents\\GitHub\\ib-trading\\ib-scripts-main\\src\\download_bars.py\", line 107, in <listcomp>\n",
      "    [b.date, b.open, b.high, b.low, b.close, b.volume, b.barCount, b.wap]\n",
      "AttributeError: 'BarData' object has no attribute 'wap'\n"
     ]
    }
   ],
   "source": [
    "!python ./src/download_bars.py --size \"1 hour\" AAPL"
   ]
  },
  {
   "cell_type": "code",
   "execution_count": null,
   "metadata": {},
   "outputs": [],
   "source": []
  }
 ],
 "metadata": {
  "kernelspec": {
   "display_name": "ib",
   "language": "python",
   "name": "python3"
  },
  "language_info": {
   "codemirror_mode": {
    "name": "ipython",
    "version": 3
   },
   "file_extension": ".py",
   "mimetype": "text/x-python",
   "name": "python",
   "nbconvert_exporter": "python",
   "pygments_lexer": "ipython3",
   "version": "3.10.12"
  },
  "orig_nbformat": 4
 },
 "nbformat": 4,
 "nbformat_minor": 2
}
