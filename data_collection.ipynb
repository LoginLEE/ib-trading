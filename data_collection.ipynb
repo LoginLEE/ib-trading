{
 "cells": [
  {
   "cell_type": "markdown",
   "metadata": {},
   "source": [
    "## Request Live data"
   ]
  },
  {
   "cell_type": "code",
   "execution_count": null,
   "metadata": {},
   "outputs": [],
   "source": [
    "import threading\n",
    "import time\n",
    "from ibapi.client import *\n",
    "from ibapi.wrapper import *\n",
    "from ibapi.ticktype import TickType, TickTypeEnum\n",
    "\n",
    "class TestApp(EClient, EWrapper):\n",
    "    def __init__(self):\n",
    "        EClient.__init__(self, self)\n",
    "    def nextValidId(self, orderId: int):\n",
    "        \n",
    "        mycontract = Contract()\n",
    "        mycontract.symbol = \"AAPL\"\n",
    "        mycontract.secType = \"STK\"\n",
    "        mycontract.exchange = \"SMART\"\n",
    "        mycontract.currency = \"USD\"\n",
    "        self.reqMarketDataType(4)\n",
    "        self.reqMktData(orderId, mycontract, \"\", 0, 0, [])\n",
    "        \n",
    "    def tickPrice(self, reqId, tickType, price, attrib):\n",
    "        print(f\"tickPrice. reqId: {reqId}, tickType: {TickTypeEnum.to_str(tickType)}, price: {price}, attribs: {attrib}\")\n",
    "    # def tickSize(self, reqId, tickType, size):\n",
    "    #     print(f\"tickSize. reqId: {reqId}, tickType: {TickTypeEnum.to_str(tickType)}, size: {size}\")\n",
    "        \n",
    "app = TestApp()\n",
    "app.connect(\"127.0.0.1\", 7496, 1000)\n",
    "\n",
    "def run_loop():\n",
    "\tapp.run()\n",
    "\n",
    "#Start the socket in a thread\n",
    "api_thread = threading.Thread(target=run_loop, daemon=True)\n",
    "api_thread.start()\n",
    "\n",
    "time.sleep(3)\n",
    "app.disconnect()"
   ]
  },
  {
   "cell_type": "markdown",
   "metadata": {},
   "source": [
    "## Request Historical Market Data"
   ]
  },
  {
   "cell_type": "code",
   "execution_count": null,
   "metadata": {},
   "outputs": [],
   "source": [
    "from ibapi.client import *\n",
    "from ibapi.wrapper import *\n",
    "import datetime\n",
    "class TestApp(EClient, EWrapper):\n",
    "    def __init__(self):\n",
    "        EClient.__init__(self, self)\n",
    "    def nextValidId(self, orderId: int):\n",
    "        \n",
    "        mycontract = Contract()\n",
    "        mycontract.symbol = \"AAPL\"\n",
    "        mycontract.secType = \"STK\"\n",
    "        mycontract.exchange = \"SMART\"\n",
    "        mycontract.currency = \"USD\"\n",
    "        queryTime = (datetime.datetime.today() - datetime.timedelta(days=180)).strftime(\"%Y%m%d-%H:%M:%S\")\n",
    "        self.reqHistoricalData(orderId, mycontract, queryTime, \"1 D\", \"1 min\", \"TRADES\", 0, 1, 0, [])\n",
    "    def historicalData(self, reqId, bar):\n",
    "        print(f\"Historical Data: {bar}\")\n",
    "    def historicalDataEnd(self, reqId, start, end):\n",
    "        print(f\"End of HistoricalData\")\n",
    "        print(f\"Start: {start}, End: {end}\")\n",
    "app = TestApp()\n",
    "app.connect(\"127.0.0.1\", 7496, 1000)\n",
    "app.run()"
   ]
  },
  {
   "cell_type": "markdown",
   "metadata": {},
   "source": [
    "## Download Historical Data"
   ]
  },
  {
   "cell_type": "code",
   "execution_count": 1,
   "metadata": {},
   "outputs": [],
   "source": [
    "from ibapi.client import EClient\n",
    "from ibapi.wrapper import EWrapper\n",
    "from ibapi.contract import Contract\n",
    "\n",
    "import threading\n",
    "import time\n",
    "from datetime import datetime\n",
    "import numpy as np\n",
    "import pandas as pd\n",
    "\n",
    "def download_data_daily(stock, start_date=\"01-01-2017\", end_date = datetime.now(), size ='1 day'):\n",
    "\n",
    "\tclass IBapi(EWrapper, EClient):\n",
    "\t\tdef __init__(self):\n",
    "\t\t\tEClient.__init__(self, self)\n",
    "\t\t\tself.data = [] #Initialize variable to store candle\n",
    "\n",
    "\t\tdef historicalData(self, reqId, bar):\n",
    "\t\t\t# print(f'Time: {bar.date} Close: {bar.close}')\n",
    "\t\t\tself.data.append([bar.date, bar.close])\n",
    "\t\t\t\n",
    "\tdef run_loop():\n",
    "\t\tapp.run()\n",
    "\n",
    "\tapp = IBapi()\n",
    "\tapp.connect('127.0.0.1', 7496, 123)\n",
    "\n",
    "\t#Start the socket in a thread\n",
    "\tapi_thread = threading.Thread(target=run_loop, daemon=True)\n",
    "\tapi_thread.start()\n",
    "\n",
    "\ttime.sleep(1) #Sleep interval to allow time for connection to server\n",
    "\n",
    "\t#Create contract object\n",
    "\teurusd_contract = Contract()\n",
    "\teurusd_contract.symbol = stock\n",
    "\teurusd_contract.secType = 'STK'\n",
    "\teurusd_contract.exchange = 'SMART'\n",
    "\teurusd_contract.currency = 'USD'\n",
    "\n",
    "\tstart_date = datetime.strptime(start_date, '%m-%d-%Y')\n",
    "\tend_date = datetime.now()\n",
    "\n",
    "\tdays = (end_date - start_date).days\n",
    "\tprint(\"days\",days)\n",
    "\tif days < 365:\n",
    "\t\tduration = \"%d D\" % days\n",
    "\telse:\n",
    "\t\tduration = \"%d Y\" % np.ceil(days / 365)\n",
    "\t# when getting daily data, look at regular trading hours only\n",
    "\t# to get accurate daily closing prices\n",
    "\tuseRTH = True\n",
    "\t# round up current time to midnight for even days\n",
    "\tend_date = end_date.replace(\n",
    "\t\thour=0, minute=0, second=0, microsecond=0\n",
    "\t)\n",
    "\n",
    "\n",
    "\tend_date = end_date.strftime(f\"%Y%m%d %H:%M:%S UTC\")\n",
    "\t# duration = '2 D'\n",
    "\t#Request historical candles\n",
    "\n",
    "\tprint(\"start_date\",start_date)\n",
    "\tprint(\"end_date\", end_date)\n",
    "\tprint(\"duration\", duration)\n",
    "\tapp.reqHistoricalData(1, eurusd_contract, end_date, duration, size, 'BID', useRTH, 1, False, [])\n",
    "\n",
    "\ttime.sleep(5) #sleep to allow enough time for data to be returned\n",
    "\n",
    "\t# #Working with Pandas DataFrames\n",
    "\timport pandas\n",
    "\n",
    "\tdf = pandas.DataFrame(app.data, columns=['DateTime', 'Close'])\n",
    "\t# print(df)\n",
    "\tdf['DateTime'] = pandas.to_datetime(df['DateTime'],\n",
    "               format='%Y%m%d') \n",
    "\tdf.to_csv('data/daily/' + stock + '.csv')  \n",
    "\n",
    "\tapp.disconnect()\n",
    " \n"
   ]
  },
  {
   "cell_type": "code",
   "execution_count": 2,
   "metadata": {},
   "outputs": [
    {
     "name": "stderr",
     "output_type": "stream",
     "text": [
      "ERROR -1 2104 Market data farm connection is OK:usfarm.nj\n",
      "ERROR -1 2104 Market data farm connection is OK:cashfarm\n",
      "ERROR -1 2104 Market data farm connection is OK:usfarm\n",
      "ERROR -1 2106 HMDS data farm connection is OK:ushmds\n",
      "ERROR -1 2158 Sec-def data farm connection is OK:secdefnj\n"
     ]
    },
    {
     "name": "stdout",
     "output_type": "stream",
     "text": [
      "days 2412\n",
      "start_date 2017-01-01 00:00:00\n",
      "end_date 20230810 00:00:00 UTC\n",
      "duration 7 Y\n"
     ]
    },
    {
     "name": "stderr",
     "output_type": "stream",
     "text": [
      "ERROR -1 2104 Market data farm connection is OK:usfarm.nj\n",
      "ERROR -1 2104 Market data farm connection is OK:cashfarm\n",
      "ERROR -1 2104 Market data farm connection is OK:usfarm\n",
      "ERROR -1 2106 HMDS data farm connection is OK:ushmds\n",
      "ERROR -1 2158 Sec-def data farm connection is OK:secdefnj\n"
     ]
    },
    {
     "name": "stdout",
     "output_type": "stream",
     "text": [
      "days 2412\n",
      "start_date 2017-01-01 00:00:00\n",
      "end_date 20230810 00:00:00 UTC\n",
      "duration 7 Y\n"
     ]
    },
    {
     "name": "stderr",
     "output_type": "stream",
     "text": [
      "ERROR -1 2104 Market data farm connection is OK:usfarm.nj\n",
      "ERROR -1 2104 Market data farm connection is OK:cashfarm\n",
      "ERROR -1 2104 Market data farm connection is OK:usfarm\n",
      "ERROR -1 2106 HMDS data farm connection is OK:ushmds\n",
      "ERROR -1 2158 Sec-def data farm connection is OK:secdefnj\n"
     ]
    },
    {
     "name": "stdout",
     "output_type": "stream",
     "text": [
      "days 2412\n",
      "start_date 2017-01-01 00:00:00\n",
      "end_date 20230810 00:00:00 UTC\n",
      "duration 7 Y\n"
     ]
    },
    {
     "name": "stderr",
     "output_type": "stream",
     "text": [
      "ERROR -1 2104 Market data farm connection is OK:usfarm.nj\n",
      "ERROR -1 2104 Market data farm connection is OK:cashfarm\n",
      "ERROR -1 2104 Market data farm connection is OK:usfarm\n",
      "ERROR -1 2106 HMDS data farm connection is OK:ushmds\n",
      "ERROR -1 2158 Sec-def data farm connection is OK:secdefnj\n"
     ]
    },
    {
     "name": "stdout",
     "output_type": "stream",
     "text": [
      "days 2412\n",
      "start_date 2017-01-01 00:00:00\n",
      "end_date 20230810 00:00:00 UTC\n",
      "duration 7 Y\n"
     ]
    },
    {
     "name": "stderr",
     "output_type": "stream",
     "text": [
      "ERROR -1 2104 Market data farm connection is OK:usfarm.nj\n",
      "ERROR -1 2104 Market data farm connection is OK:cashfarm\n",
      "ERROR -1 2104 Market data farm connection is OK:usfarm\n",
      "ERROR -1 2106 HMDS data farm connection is OK:ushmds\n",
      "ERROR -1 2158 Sec-def data farm connection is OK:secdefnj\n"
     ]
    },
    {
     "name": "stdout",
     "output_type": "stream",
     "text": [
      "days 2412\n",
      "start_date 2017-01-01 00:00:00\n",
      "end_date 20230810 00:00:00 UTC\n",
      "duration 7 Y\n"
     ]
    },
    {
     "name": "stderr",
     "output_type": "stream",
     "text": [
      "ERROR -1 2104 Market data farm connection is OK:usfarm.nj\n",
      "ERROR -1 2104 Market data farm connection is OK:cashfarm\n",
      "ERROR -1 2104 Market data farm connection is OK:usfarm\n",
      "ERROR -1 2106 HMDS data farm connection is OK:ushmds\n",
      "ERROR -1 2158 Sec-def data farm connection is OK:secdefnj\n"
     ]
    },
    {
     "name": "stdout",
     "output_type": "stream",
     "text": [
      "days 2412\n",
      "start_date 2017-01-01 00:00:00\n",
      "end_date 20230810 00:00:00 UTC\n",
      "duration 7 Y\n"
     ]
    },
    {
     "name": "stderr",
     "output_type": "stream",
     "text": [
      "ERROR -1 2104 Market data farm connection is OK:usfarm.nj\n",
      "ERROR -1 2104 Market data farm connection is OK:cashfarm\n",
      "ERROR -1 2104 Market data farm connection is OK:usfarm\n",
      "ERROR -1 2106 HMDS data farm connection is OK:ushmds\n",
      "ERROR -1 2158 Sec-def data farm connection is OK:secdefnj\n"
     ]
    },
    {
     "name": "stdout",
     "output_type": "stream",
     "text": [
      "days 2412\n",
      "start_date 2017-01-01 00:00:00\n",
      "end_date 20230810 00:00:00 UTC\n",
      "duration 7 Y\n"
     ]
    },
    {
     "name": "stderr",
     "output_type": "stream",
     "text": [
      "ERROR -1 2104 Market data farm connection is OK:usfarm.nj\n",
      "ERROR -1 2104 Market data farm connection is OK:cashfarm\n",
      "ERROR -1 2104 Market data farm connection is OK:usfarm\n",
      "ERROR -1 2106 HMDS data farm connection is OK:ushmds\n",
      "ERROR -1 2158 Sec-def data farm connection is OK:secdefnj\n"
     ]
    },
    {
     "name": "stdout",
     "output_type": "stream",
     "text": [
      "days 2412\n",
      "start_date 2017-01-01 00:00:00\n",
      "end_date 20230810 00:00:00 UTC\n",
      "duration 7 Y\n"
     ]
    },
    {
     "name": "stderr",
     "output_type": "stream",
     "text": [
      "ERROR -1 2104 Market data farm connection is OK:usfarm.nj\n",
      "ERROR -1 2104 Market data farm connection is OK:cashfarm\n",
      "ERROR -1 2104 Market data farm connection is OK:usfarm\n",
      "ERROR -1 2106 HMDS data farm connection is OK:ushmds\n",
      "ERROR -1 2158 Sec-def data farm connection is OK:secdefnj\n"
     ]
    },
    {
     "name": "stdout",
     "output_type": "stream",
     "text": [
      "days 2412\n",
      "start_date 2017-01-01 00:00:00\n",
      "end_date 20230810 00:00:00 UTC\n",
      "duration 7 Y\n"
     ]
    },
    {
     "name": "stderr",
     "output_type": "stream",
     "text": [
      "ERROR -1 2104 Market data farm connection is OK:usfarm.nj\n",
      "ERROR -1 2104 Market data farm connection is OK:cashfarm\n",
      "ERROR -1 2104 Market data farm connection is OK:usfarm\n",
      "ERROR -1 2106 HMDS data farm connection is OK:ushmds\n",
      "ERROR -1 2158 Sec-def data farm connection is OK:secdefnj\n"
     ]
    },
    {
     "name": "stdout",
     "output_type": "stream",
     "text": [
      "days 2412\n",
      "start_date 2017-01-01 00:00:00\n",
      "end_date 20230810 00:00:00 UTC\n",
      "duration 7 Y\n"
     ]
    },
    {
     "name": "stderr",
     "output_type": "stream",
     "text": [
      "ERROR -1 2104 Market data farm connection is OK:usfarm.nj\n",
      "ERROR -1 2104 Market data farm connection is OK:cashfarm\n",
      "ERROR -1 2104 Market data farm connection is OK:usfarm\n",
      "ERROR -1 2106 HMDS data farm connection is OK:ushmds\n",
      "ERROR -1 2158 Sec-def data farm connection is OK:secdefnj\n"
     ]
    },
    {
     "name": "stdout",
     "output_type": "stream",
     "text": [
      "days 2412\n",
      "start_date 2017-01-01 00:00:00\n",
      "end_date 20230810 00:00:00 UTC\n",
      "duration 7 Y\n"
     ]
    }
   ],
   "source": [
    "stocks = [\n",
    "    \"AAPL\",\n",
    "    \"GOOG\",\n",
    "    \"AMZN\",\n",
    "    \"NVDA\",\n",
    "    \"TSLA\",\n",
    "    \"AMD\",\n",
    "    \"INTC\",\n",
    "    \"ATVI\",\n",
    "    \"PYPL\",\n",
    "    \"TTD\",\n",
    "    \"EA\",\n",
    "    ]\n",
    "for stock in stocks:\n",
    "    download_data_daily(\n",
    "        stock\n",
    "        )\n"
   ]
  },
  {
   "cell_type": "code",
   "execution_count": 1,
   "metadata": {},
   "outputs": [],
   "source": [
    "from ibapi.client import EClient\n",
    "from ibapi.wrapper import EWrapper\n",
    "from ibapi.contract import Contract\n",
    "\n",
    "import threading\n",
    "import time\n",
    "from datetime import datetime\n",
    "import numpy as np\n",
    "import pandas as pd\n",
    "def download_data_minutely(stock, duration = '1 W'):\n",
    "\n",
    "\tclass IBapi(EWrapper, EClient):\n",
    "\t\tdef __init__(self):\n",
    "\t\t\tEClient.__init__(self, self)\n",
    "\t\t\tself.data = [] #Initialize variable to store candle\n",
    "\n",
    "\t\tdef historicalData(self, reqId, bar):\n",
    "\t\t\t# print(f'Time: {bar.date} Close: {bar.close}')\n",
    "\t\t\tself.data.append([bar.date, bar.close])\n",
    "\t\t\t\n",
    "\tdef run_loop():\n",
    "\t\tapp.run()\n",
    "\n",
    "\tapp = IBapi()\n",
    "\tapp.connect('127.0.0.1', 7496, 123)\n",
    "\n",
    "\t#Start the socket in a thread\n",
    "\tapi_thread = threading.Thread(target=run_loop, daemon=True)\n",
    "\tapi_thread.start()\n",
    "\n",
    "\ttime.sleep(1) #Sleep interval to allow time for connection to server\n",
    "\n",
    "\t#Create contract object\n",
    "\teurusd_contract = Contract()\n",
    "\teurusd_contract.symbol = stock\n",
    "\teurusd_contract.secType = 'STK'\n",
    "\teurusd_contract.exchange = 'SMART'\n",
    "\teurusd_contract.currency = 'USD'\n",
    "\n",
    "\tuseRTH = True\n",
    "\n",
    "\n",
    "\tprint(\"duration\", duration)\n",
    "\tapp.reqHistoricalData(\n",
    "    \t1, \n",
    "    \teurusd_contract,\n",
    "\t\t\"\", \n",
    "\t\tduration, \n",
    "\t\t'1 min', \n",
    "\t\t'BID', \n",
    "\t\tuseRTH, \n",
    "\t\t1, \n",
    "\t\tFalse, \n",
    "\t\t[])\n",
    "\n",
    "\ttime.sleep(5) #sleep to allow enough time for data to be returned\n",
    "\n",
    "\t# #Working with Pandas DataFrames\n",
    "\timport pandas\n",
    "\n",
    "\tdf = pandas.DataFrame(app.data, columns=['DateTime', 'Close'])\n",
    "\t# print(df)\n",
    "\tdf['DateTime'] = pandas.to_datetime(df['DateTime'],\n",
    "               format='%Y%m%d  %H:%M:%S') \n",
    "\tdf.to_csv('data/minutely/' + stock + '.csv')  \n",
    "\n",
    "\tapp.disconnect()\n",
    " "
   ]
  },
  {
   "cell_type": "code",
   "execution_count": 2,
   "metadata": {},
   "outputs": [
    {
     "name": "stderr",
     "output_type": "stream",
     "text": [
      "ERROR -1 2104 Market data farm connection is OK:usfarm.nj\n",
      "ERROR -1 2104 Market data farm connection is OK:cashfarm\n",
      "ERROR -1 2104 Market data farm connection is OK:usfarm\n",
      "ERROR -1 2106 HMDS data farm connection is OK:ushmds\n",
      "ERROR -1 2158 Sec-def data farm connection is OK:secdefnj\n"
     ]
    },
    {
     "name": "stdout",
     "output_type": "stream",
     "text": [
      "duration 1 M\n"
     ]
    },
    {
     "name": "stderr",
     "output_type": "stream",
     "text": [
      "ERROR -1 2104 Market data farm connection is OK:usfarm.nj\n",
      "ERROR -1 2104 Market data farm connection is OK:cashfarm\n",
      "ERROR -1 2104 Market data farm connection is OK:usfarm\n",
      "ERROR -1 2106 HMDS data farm connection is OK:ushmds\n",
      "ERROR -1 2158 Sec-def data farm connection is OK:secdefnj\n"
     ]
    },
    {
     "name": "stdout",
     "output_type": "stream",
     "text": [
      "duration 1 M\n"
     ]
    },
    {
     "name": "stderr",
     "output_type": "stream",
     "text": [
      "ERROR -1 2104 Market data farm connection is OK:usfarm.nj\n",
      "ERROR -1 2104 Market data farm connection is OK:cashfarm\n",
      "ERROR -1 2104 Market data farm connection is OK:usfarm\n",
      "ERROR -1 2106 HMDS data farm connection is OK:ushmds\n",
      "ERROR -1 2158 Sec-def data farm connection is OK:secdefnj\n"
     ]
    },
    {
     "name": "stdout",
     "output_type": "stream",
     "text": [
      "duration 1 M\n"
     ]
    },
    {
     "name": "stderr",
     "output_type": "stream",
     "text": [
      "ERROR -1 2104 Market data farm connection is OK:usfarm.nj\n",
      "ERROR -1 2104 Market data farm connection is OK:cashfarm\n",
      "ERROR -1 2104 Market data farm connection is OK:usfarm\n",
      "ERROR -1 2106 HMDS data farm connection is OK:ushmds\n",
      "ERROR -1 2158 Sec-def data farm connection is OK:secdefnj\n"
     ]
    },
    {
     "name": "stdout",
     "output_type": "stream",
     "text": [
      "duration 1 M\n"
     ]
    },
    {
     "name": "stderr",
     "output_type": "stream",
     "text": [
      "ERROR -1 2104 Market data farm connection is OK:usfarm.nj\n",
      "ERROR -1 2104 Market data farm connection is OK:cashfarm\n",
      "ERROR -1 2104 Market data farm connection is OK:usfarm\n",
      "ERROR -1 2106 HMDS data farm connection is OK:ushmds\n",
      "ERROR -1 2158 Sec-def data farm connection is OK:secdefnj\n"
     ]
    },
    {
     "name": "stdout",
     "output_type": "stream",
     "text": [
      "duration 1 M\n"
     ]
    },
    {
     "name": "stderr",
     "output_type": "stream",
     "text": [
      "ERROR -1 2104 Market data farm connection is OK:usfarm.nj\n",
      "ERROR -1 2104 Market data farm connection is OK:cashfarm\n",
      "ERROR -1 2104 Market data farm connection is OK:usfarm\n",
      "ERROR -1 2106 HMDS data farm connection is OK:ushmds\n",
      "ERROR -1 2158 Sec-def data farm connection is OK:secdefnj\n"
     ]
    },
    {
     "name": "stdout",
     "output_type": "stream",
     "text": [
      "duration 1 M\n"
     ]
    },
    {
     "name": "stderr",
     "output_type": "stream",
     "text": [
      "ERROR -1 2104 Market data farm connection is OK:usfarm.nj\n",
      "ERROR -1 2104 Market data farm connection is OK:cashfarm\n",
      "ERROR -1 2104 Market data farm connection is OK:usfarm\n",
      "ERROR -1 2106 HMDS data farm connection is OK:ushmds\n",
      "ERROR -1 2158 Sec-def data farm connection is OK:secdefnj\n"
     ]
    },
    {
     "name": "stdout",
     "output_type": "stream",
     "text": [
      "duration 1 M\n"
     ]
    },
    {
     "name": "stderr",
     "output_type": "stream",
     "text": [
      "ERROR -1 2104 Market data farm connection is OK:usfarm.nj\n",
      "ERROR -1 2104 Market data farm connection is OK:cashfarm\n",
      "ERROR -1 2104 Market data farm connection is OK:usfarm\n",
      "ERROR -1 2106 HMDS data farm connection is OK:ushmds\n",
      "ERROR -1 2158 Sec-def data farm connection is OK:secdefnj\n"
     ]
    },
    {
     "name": "stdout",
     "output_type": "stream",
     "text": [
      "duration 1 M\n"
     ]
    },
    {
     "name": "stderr",
     "output_type": "stream",
     "text": [
      "ERROR -1 2104 Market data farm connection is OK:usfarm.nj\n",
      "ERROR -1 2104 Market data farm connection is OK:cashfarm\n",
      "ERROR -1 2104 Market data farm connection is OK:usfarm\n",
      "ERROR -1 2106 HMDS data farm connection is OK:ushmds\n",
      "ERROR -1 2158 Sec-def data farm connection is OK:secdefnj\n"
     ]
    },
    {
     "name": "stdout",
     "output_type": "stream",
     "text": [
      "duration 1 M\n"
     ]
    },
    {
     "name": "stderr",
     "output_type": "stream",
     "text": [
      "ERROR -1 2104 Market data farm connection is OK:usfarm.nj\n",
      "ERROR -1 2104 Market data farm connection is OK:cashfarm\n",
      "ERROR -1 2104 Market data farm connection is OK:usfarm\n",
      "ERROR -1 2106 HMDS data farm connection is OK:ushmds\n",
      "ERROR -1 2158 Sec-def data farm connection is OK:secdefnj\n"
     ]
    },
    {
     "name": "stdout",
     "output_type": "stream",
     "text": [
      "duration 1 M\n"
     ]
    },
    {
     "name": "stderr",
     "output_type": "stream",
     "text": [
      "ERROR -1 2104 Market data farm connection is OK:usfarm.nj\n",
      "ERROR -1 2104 Market data farm connection is OK:cashfarm\n",
      "ERROR -1 2104 Market data farm connection is OK:usfarm\n",
      "ERROR -1 2106 HMDS data farm connection is OK:ushmds\n",
      "ERROR -1 2158 Sec-def data farm connection is OK:secdefnj\n"
     ]
    },
    {
     "name": "stdout",
     "output_type": "stream",
     "text": [
      "duration 1 M\n"
     ]
    }
   ],
   "source": [
    "stocks = [\n",
    "    \"AAPL\",\n",
    "    \"GOOG\",\n",
    "    \"AMZN\",\n",
    "    \"NVDA\",\n",
    "    \"TSLA\",\n",
    "    \"AMD\",\n",
    "    \"INTC\",\n",
    "    \"ATVI\",\n",
    "    \"PYPL\",\n",
    "    \"TTD\",\n",
    "    \"EA\",\n",
    "    ]\n",
    "for stock in stocks:\n",
    "    download_data_minutely(\n",
    "        stock, \n",
    "        duration=\"1 M\"\n",
    "        )\n"
   ]
  },
  {
   "cell_type": "code",
   "execution_count": 1,
   "metadata": {},
   "outputs": [],
   "source": [
    "from ibapi.client import EClient\n",
    "from ibapi.wrapper import EWrapper\n",
    "from ibapi.contract import Contract\n",
    "\n",
    "import threading\n",
    "import time\n",
    "from datetime import datetime\n",
    "import numpy as np\n",
    "import pandas as pd\n",
    "def download_data_15minutely(stock, duration = '1 W'):\n",
    "\n",
    "\tclass IBapi(EWrapper, EClient):\n",
    "\t\tdef __init__(self):\n",
    "\t\t\tEClient.__init__(self, self)\n",
    "\t\t\tself.data = [] #Initialize variable to store candle\n",
    "\n",
    "\t\tdef historicalData(self, reqId, bar):\n",
    "\t\t\t# print(f'Time: {bar.date} Close: {bar.close}')\n",
    "\t\t\tself.data.append([bar.date, bar.close])\n",
    "\t\t\t\n",
    "\tdef run_loop():\n",
    "\t\tapp.run()\n",
    "\n",
    "\tapp = IBapi()\n",
    "\tapp.connect('127.0.0.1', 7496, 123)\n",
    "\n",
    "\t#Start the socket in a thread\n",
    "\tapi_thread = threading.Thread(target=run_loop, daemon=True)\n",
    "\tapi_thread.start()\n",
    "\n",
    "\ttime.sleep(1) #Sleep interval to allow time for connection to server\n",
    "\n",
    "\t#Create contract object\n",
    "\teurusd_contract = Contract()\n",
    "\teurusd_contract.symbol = stock\n",
    "\teurusd_contract.secType = 'STK'\n",
    "\teurusd_contract.exchange = 'SMART'\n",
    "\teurusd_contract.currency = 'USD'\n",
    "\n",
    "\tuseRTH = True\n",
    "\n",
    "\n",
    "\tprint(\"duration\", duration)\n",
    "\tapp.reqHistoricalData(\n",
    "    \t1, \n",
    "    \teurusd_contract,\n",
    "\t\t\"\", \n",
    "\t\tduration, \n",
    "\t\t'15 mins', \n",
    "\t\t'BID', \n",
    "\t\tuseRTH, \n",
    "\t\t1, \n",
    "\t\tFalse, \n",
    "\t\t[])\n",
    "\n",
    "\ttime.sleep(5) #sleep to allow enough time for data to be returned\n",
    "\n",
    "\t# #Working with Pandas DataFrames\n",
    "\timport pandas\n",
    "\n",
    "\tdf = pandas.DataFrame(app.data, columns=['DateTime', 'Close'])\n",
    "\t# print(df)\n",
    "\tdf['DateTime'] = pandas.to_datetime(df['DateTime'],\n",
    "               format='%Y%m%d  %H:%M:%S') \n",
    "\tdf.to_csv('data/15minutely/' + stock + '.csv')  \n",
    "\n",
    "\tapp.disconnect()\n",
    " "
   ]
  },
  {
   "cell_type": "code",
   "execution_count": 2,
   "metadata": {},
   "outputs": [
    {
     "name": "stderr",
     "output_type": "stream",
     "text": [
      "ERROR -1 2104 Market data farm connection is OK:usfarm.nj\n",
      "ERROR -1 2104 Market data farm connection is OK:cashfarm\n",
      "ERROR -1 2104 Market data farm connection is OK:usfarm\n",
      "ERROR -1 2106 HMDS data farm connection is OK:ushmds\n",
      "ERROR -1 2158 Sec-def data farm connection is OK:secdefnj\n"
     ]
    },
    {
     "name": "stdout",
     "output_type": "stream",
     "text": [
      "duration 1 Y\n"
     ]
    },
    {
     "name": "stderr",
     "output_type": "stream",
     "text": [
      "ERROR -1 2104 Market data farm connection is OK:usfarm.nj\n",
      "ERROR -1 2104 Market data farm connection is OK:cashfarm\n",
      "ERROR -1 2104 Market data farm connection is OK:usfarm\n",
      "ERROR -1 2106 HMDS data farm connection is OK:ushmds\n",
      "ERROR -1 2158 Sec-def data farm connection is OK:secdefnj\n"
     ]
    },
    {
     "name": "stdout",
     "output_type": "stream",
     "text": [
      "duration 1 Y\n"
     ]
    },
    {
     "name": "stderr",
     "output_type": "stream",
     "text": [
      "ERROR -1 2104 Market data farm connection is OK:usfarm.nj\n",
      "ERROR -1 2104 Market data farm connection is OK:cashfarm\n",
      "ERROR -1 2104 Market data farm connection is OK:usfarm\n",
      "ERROR -1 2106 HMDS data farm connection is OK:ushmds\n",
      "ERROR -1 2158 Sec-def data farm connection is OK:secdefnj\n"
     ]
    },
    {
     "name": "stdout",
     "output_type": "stream",
     "text": [
      "duration 1 Y\n"
     ]
    },
    {
     "name": "stderr",
     "output_type": "stream",
     "text": [
      "ERROR -1 2104 Market data farm connection is OK:usfarm.nj\n",
      "ERROR -1 2104 Market data farm connection is OK:cashfarm\n",
      "ERROR -1 2104 Market data farm connection is OK:usfarm\n",
      "ERROR -1 2106 HMDS data farm connection is OK:ushmds\n",
      "ERROR -1 2158 Sec-def data farm connection is OK:secdefnj\n"
     ]
    },
    {
     "name": "stdout",
     "output_type": "stream",
     "text": [
      "duration 1 Y\n"
     ]
    },
    {
     "name": "stderr",
     "output_type": "stream",
     "text": [
      "ERROR -1 2104 Market data farm connection is OK:usfarm.nj\n",
      "ERROR -1 2104 Market data farm connection is OK:cashfarm\n",
      "ERROR -1 2104 Market data farm connection is OK:usfarm\n",
      "ERROR -1 2106 HMDS data farm connection is OK:ushmds\n",
      "ERROR -1 2158 Sec-def data farm connection is OK:secdefnj\n"
     ]
    },
    {
     "name": "stdout",
     "output_type": "stream",
     "text": [
      "duration 1 Y\n"
     ]
    },
    {
     "name": "stderr",
     "output_type": "stream",
     "text": [
      "ERROR -1 2104 Market data farm connection is OK:usfarm.nj\n",
      "ERROR -1 2104 Market data farm connection is OK:cashfarm\n",
      "ERROR -1 2104 Market data farm connection is OK:usfarm\n",
      "ERROR -1 2106 HMDS data farm connection is OK:ushmds\n",
      "ERROR -1 2158 Sec-def data farm connection is OK:secdefnj\n"
     ]
    },
    {
     "name": "stdout",
     "output_type": "stream",
     "text": [
      "duration 1 Y\n"
     ]
    },
    {
     "name": "stderr",
     "output_type": "stream",
     "text": [
      "ERROR -1 2104 Market data farm connection is OK:usfarm.nj\n",
      "ERROR -1 2104 Market data farm connection is OK:cashfarm\n",
      "ERROR -1 2104 Market data farm connection is OK:usfarm\n",
      "ERROR -1 2106 HMDS data farm connection is OK:ushmds\n",
      "ERROR -1 2158 Sec-def data farm connection is OK:secdefnj\n"
     ]
    },
    {
     "name": "stdout",
     "output_type": "stream",
     "text": [
      "duration 1 Y\n"
     ]
    },
    {
     "name": "stderr",
     "output_type": "stream",
     "text": [
      "ERROR -1 2104 Market data farm connection is OK:usfarm.nj\n",
      "ERROR -1 2104 Market data farm connection is OK:cashfarm\n",
      "ERROR -1 2104 Market data farm connection is OK:usfarm\n",
      "ERROR -1 2106 HMDS data farm connection is OK:ushmds\n",
      "ERROR -1 2158 Sec-def data farm connection is OK:secdefnj\n"
     ]
    },
    {
     "name": "stdout",
     "output_type": "stream",
     "text": [
      "duration 1 Y\n"
     ]
    },
    {
     "name": "stderr",
     "output_type": "stream",
     "text": [
      "ERROR -1 2104 Market data farm connection is OK:usfarm.nj\n",
      "ERROR -1 2104 Market data farm connection is OK:cashfarm\n",
      "ERROR -1 2104 Market data farm connection is OK:usfarm\n",
      "ERROR -1 2106 HMDS data farm connection is OK:ushmds\n",
      "ERROR -1 2158 Sec-def data farm connection is OK:secdefnj\n"
     ]
    },
    {
     "name": "stdout",
     "output_type": "stream",
     "text": [
      "duration 1 Y\n"
     ]
    },
    {
     "name": "stderr",
     "output_type": "stream",
     "text": [
      "ERROR -1 2104 Market data farm connection is OK:usfarm.nj\n",
      "ERROR -1 2104 Market data farm connection is OK:cashfarm\n",
      "ERROR -1 2104 Market data farm connection is OK:usfarm\n",
      "ERROR -1 2106 HMDS data farm connection is OK:ushmds\n",
      "ERROR -1 2158 Sec-def data farm connection is OK:secdefnj\n"
     ]
    },
    {
     "name": "stdout",
     "output_type": "stream",
     "text": [
      "duration 1 Y\n"
     ]
    },
    {
     "name": "stderr",
     "output_type": "stream",
     "text": [
      "ERROR -1 2104 Market data farm connection is OK:usfarm.nj\n",
      "ERROR -1 2104 Market data farm connection is OK:cashfarm\n",
      "ERROR -1 2104 Market data farm connection is OK:usfarm\n",
      "ERROR -1 2106 HMDS data farm connection is OK:ushmds\n",
      "ERROR -1 2158 Sec-def data farm connection is OK:secdefnj\n"
     ]
    },
    {
     "name": "stdout",
     "output_type": "stream",
     "text": [
      "duration 1 Y\n"
     ]
    }
   ],
   "source": [
    "stocks = [\n",
    "    \"AAPL\",\n",
    "    \"GOOG\",\n",
    "    \"AMZN\",\n",
    "    \"NVDA\",\n",
    "    \"TSLA\",\n",
    "    \"AMD\",\n",
    "    \"INTC\",\n",
    "    \"ATVI\",\n",
    "    \"PYPL\",\n",
    "    \"TTD\",\n",
    "    \"EA\",\n",
    "    ]\n",
    "for stock in stocks:\n",
    "    download_data_15minutely(\n",
    "        stock, \n",
    "        duration=\"1 Y\"\n",
    "        )\n"
   ]
  },
  {
   "cell_type": "code",
   "execution_count": 4,
   "metadata": {},
   "outputs": [],
   "source": [
    "from ibapi.client import EClient\n",
    "from ibapi.wrapper import EWrapper\n",
    "from ibapi.contract import Contract\n",
    "\n",
    "import threading\n",
    "import time\n",
    "from datetime import datetime\n",
    "import numpy as np\n",
    "import pandas as pd\n",
    "def download_data_hourly(stock, duration = '1 W'):\n",
    "\n",
    "\tclass IBapi(EWrapper, EClient):\n",
    "\t\tdef __init__(self):\n",
    "\t\t\tEClient.__init__(self, self)\n",
    "\t\t\tself.data = [] #Initialize variable to store candle\n",
    "\n",
    "\t\tdef historicalData(self, reqId, bar):\n",
    "\t\t\t# print(f'Time: {bar.date} Close: {bar.close}')\n",
    "\t\t\tself.data.append([bar.date, bar.close])\n",
    "\t\t\t\n",
    "\tdef run_loop():\n",
    "\t\tapp.run()\n",
    "\n",
    "\tapp = IBapi()\n",
    "\tapp.connect('127.0.0.1', 7496, 123)\n",
    "\n",
    "\t#Start the socket in a thread\n",
    "\tapi_thread = threading.Thread(target=run_loop, daemon=True)\n",
    "\tapi_thread.start()\n",
    "\n",
    "\ttime.sleep(1) #Sleep interval to allow time for connection to server\n",
    "\n",
    "\t#Create contract object\n",
    "\teurusd_contract = Contract()\n",
    "\teurusd_contract.symbol = stock\n",
    "\teurusd_contract.secType = 'STK'\n",
    "\teurusd_contract.exchange = 'SMART'\n",
    "\teurusd_contract.currency = 'USD'\n",
    "\n",
    "\tuseRTH = True\n",
    "\n",
    "\n",
    "\tprint(\"duration\", duration)\n",
    "\tapp.reqHistoricalData(\n",
    "    \t1, \n",
    "    \teurusd_contract,\n",
    "\t\t\"\", \n",
    "\t\tduration, \n",
    "\t\t'1 hour', \n",
    "\t\t'BID', \n",
    "\t\tuseRTH, \n",
    "\t\t1, \n",
    "\t\tFalse, \n",
    "\t\t[])\n",
    "\n",
    "\ttime.sleep(5) #sleep to allow enough time for data to be returned\n",
    "\n",
    "\t# #Working with Pandas DataFrames\n",
    "\timport pandas\n",
    "\n",
    "\tdf = pandas.DataFrame(app.data, columns=['DateTime', 'Close'])\n",
    "\t# print(df)\n",
    "\tdf['DateTime'] = pandas.to_datetime(df['DateTime'],\n",
    "               format='%Y%m%d  %H:%M:%S') \n",
    "\tdf.to_csv('data/hourly/' + stock + '.csv')  \n",
    "\n",
    "\tapp.disconnect()"
   ]
  },
  {
   "cell_type": "code",
   "execution_count": 5,
   "metadata": {},
   "outputs": [
    {
     "name": "stderr",
     "output_type": "stream",
     "text": [
      "ERROR -1 2104 Market data farm connection is OK:usfarm.nj\n",
      "ERROR -1 2104 Market data farm connection is OK:cashfarm\n",
      "ERROR -1 2104 Market data farm connection is OK:usfarm\n",
      "ERROR -1 2106 HMDS data farm connection is OK:euhmds\n",
      "ERROR -1 2106 HMDS data farm connection is OK:fundfarm\n",
      "ERROR -1 2106 HMDS data farm connection is OK:ushmds\n",
      "ERROR -1 2158 Sec-def data farm connection is OK:secdefnj\n"
     ]
    },
    {
     "name": "stdout",
     "output_type": "stream",
     "text": [
      "duration 2 W\n"
     ]
    },
    {
     "name": "stderr",
     "output_type": "stream",
     "text": [
      "ERROR -1 2104 Market data farm connection is OK:usfarm.nj\n",
      "ERROR -1 2104 Market data farm connection is OK:cashfarm\n",
      "ERROR -1 2104 Market data farm connection is OK:usfarm\n",
      "ERROR -1 2106 HMDS data farm connection is OK:euhmds\n",
      "ERROR -1 2106 HMDS data farm connection is OK:fundfarm\n",
      "ERROR -1 2106 HMDS data farm connection is OK:ushmds\n",
      "ERROR -1 2158 Sec-def data farm connection is OK:secdefnj\n"
     ]
    },
    {
     "name": "stdout",
     "output_type": "stream",
     "text": [
      "duration 2 W\n"
     ]
    },
    {
     "name": "stderr",
     "output_type": "stream",
     "text": [
      "ERROR -1 2104 Market data farm connection is OK:usfarm.nj\n",
      "ERROR -1 2104 Market data farm connection is OK:cashfarm\n",
      "ERROR -1 2104 Market data farm connection is OK:usfarm\n",
      "ERROR -1 2106 HMDS data farm connection is OK:euhmds\n",
      "ERROR -1 2106 HMDS data farm connection is OK:fundfarm\n",
      "ERROR -1 2106 HMDS data farm connection is OK:ushmds\n",
      "ERROR -1 2158 Sec-def data farm connection is OK:secdefnj\n"
     ]
    },
    {
     "name": "stdout",
     "output_type": "stream",
     "text": [
      "duration 2 W\n"
     ]
    },
    {
     "name": "stderr",
     "output_type": "stream",
     "text": [
      "ERROR -1 2104 Market data farm connection is OK:usfarm.nj\n",
      "ERROR -1 2104 Market data farm connection is OK:cashfarm\n",
      "ERROR -1 2104 Market data farm connection is OK:usfarm\n",
      "ERROR -1 2106 HMDS data farm connection is OK:euhmds\n",
      "ERROR -1 2106 HMDS data farm connection is OK:fundfarm\n",
      "ERROR -1 2106 HMDS data farm connection is OK:ushmds\n",
      "ERROR -1 2158 Sec-def data farm connection is OK:secdefnj\n"
     ]
    },
    {
     "name": "stdout",
     "output_type": "stream",
     "text": [
      "duration 2 W\n"
     ]
    },
    {
     "name": "stderr",
     "output_type": "stream",
     "text": [
      "ERROR -1 2104 Market data farm connection is OK:usfarm.nj\n",
      "ERROR -1 2104 Market data farm connection is OK:cashfarm\n",
      "ERROR -1 2104 Market data farm connection is OK:usfarm\n",
      "ERROR -1 2106 HMDS data farm connection is OK:euhmds\n",
      "ERROR -1 2106 HMDS data farm connection is OK:fundfarm\n",
      "ERROR -1 2106 HMDS data farm connection is OK:ushmds\n",
      "ERROR -1 2158 Sec-def data farm connection is OK:secdefnj\n"
     ]
    },
    {
     "name": "stdout",
     "output_type": "stream",
     "text": [
      "duration 2 W\n"
     ]
    },
    {
     "name": "stderr",
     "output_type": "stream",
     "text": [
      "ERROR 1 200 The contract description specified for META is ambiguous.\n",
      "ERROR -1 2104 Market data farm connection is OK:usfarm.nj\n",
      "ERROR -1 2104 Market data farm connection is OK:cashfarm\n",
      "ERROR -1 2104 Market data farm connection is OK:usfarm\n",
      "ERROR -1 2106 HMDS data farm connection is OK:euhmds\n",
      "ERROR -1 2106 HMDS data farm connection is OK:fundfarm\n",
      "ERROR -1 2106 HMDS data farm connection is OK:ushmds\n",
      "ERROR -1 2158 Sec-def data farm connection is OK:secdefnj\n"
     ]
    },
    {
     "name": "stdout",
     "output_type": "stream",
     "text": [
      "duration 2 W\n"
     ]
    },
    {
     "name": "stderr",
     "output_type": "stream",
     "text": [
      "ERROR -1 2104 Market data farm connection is OK:usfarm.nj\n",
      "ERROR -1 2104 Market data farm connection is OK:cashfarm\n",
      "ERROR -1 2104 Market data farm connection is OK:usfarm\n",
      "ERROR -1 2106 HMDS data farm connection is OK:euhmds\n",
      "ERROR -1 2106 HMDS data farm connection is OK:fundfarm\n",
      "ERROR -1 2106 HMDS data farm connection is OK:ushmds\n",
      "ERROR -1 2158 Sec-def data farm connection is OK:secdefnj\n"
     ]
    },
    {
     "name": "stdout",
     "output_type": "stream",
     "text": [
      "duration 2 W\n"
     ]
    },
    {
     "name": "stderr",
     "output_type": "stream",
     "text": [
      "ERROR 1 162 Historical Market Data Service error message:No market data permissions for NYSE STK. Requested market data requires additional subscription for API. See link in 'Market Data Connections' dialog for more details.\n",
      "ERROR -1 2104 Market data farm connection is OK:usfarm.nj\n",
      "ERROR -1 2104 Market data farm connection is OK:cashfarm\n",
      "ERROR -1 2104 Market data farm connection is OK:usfarm\n",
      "ERROR -1 2106 HMDS data farm connection is OK:euhmds\n",
      "ERROR -1 2106 HMDS data farm connection is OK:fundfarm\n",
      "ERROR -1 2106 HMDS data farm connection is OK:ushmds\n",
      "ERROR -1 2158 Sec-def data farm connection is OK:secdefnj\n"
     ]
    },
    {
     "name": "stdout",
     "output_type": "stream",
     "text": [
      "duration 2 W\n"
     ]
    },
    {
     "name": "stderr",
     "output_type": "stream",
     "text": [
      "ERROR 1 162 Historical Market Data Service error message:No market data permissions for NYSE STK. Requested market data requires additional subscription for API. See link in 'Market Data Connections' dialog for more details.\n",
      "ERROR -1 2104 Market data farm connection is OK:usfarm.nj\n",
      "ERROR -1 2104 Market data farm connection is OK:cashfarm\n",
      "ERROR -1 2104 Market data farm connection is OK:usfarm\n",
      "ERROR -1 2106 HMDS data farm connection is OK:euhmds\n",
      "ERROR -1 2106 HMDS data farm connection is OK:fundfarm\n",
      "ERROR -1 2106 HMDS data farm connection is OK:ushmds\n",
      "ERROR -1 2158 Sec-def data farm connection is OK:secdefnj\n"
     ]
    },
    {
     "name": "stdout",
     "output_type": "stream",
     "text": [
      "duration 2 W\n"
     ]
    },
    {
     "name": "stderr",
     "output_type": "stream",
     "text": [
      "ERROR -1 2104 Market data farm connection is OK:usfarm.nj\n",
      "ERROR -1 2104 Market data farm connection is OK:cashfarm\n",
      "ERROR -1 2104 Market data farm connection is OK:usfarm\n",
      "ERROR -1 2106 HMDS data farm connection is OK:euhmds\n",
      "ERROR -1 2106 HMDS data farm connection is OK:fundfarm\n",
      "ERROR -1 2106 HMDS data farm connection is OK:ushmds\n",
      "ERROR -1 2158 Sec-def data farm connection is OK:secdefnj\n"
     ]
    },
    {
     "name": "stdout",
     "output_type": "stream",
     "text": [
      "duration 2 W\n"
     ]
    },
    {
     "name": "stderr",
     "output_type": "stream",
     "text": [
      "ERROR -1 2104 Market data farm connection is OK:usfarm.nj\n",
      "ERROR -1 2104 Market data farm connection is OK:cashfarm\n",
      "ERROR -1 2104 Market data farm connection is OK:usfarm\n",
      "ERROR -1 2106 HMDS data farm connection is OK:euhmds\n",
      "ERROR -1 2106 HMDS data farm connection is OK:fundfarm\n",
      "ERROR -1 2106 HMDS data farm connection is OK:ushmds\n",
      "ERROR -1 2158 Sec-def data farm connection is OK:secdefnj\n"
     ]
    },
    {
     "name": "stdout",
     "output_type": "stream",
     "text": [
      "duration 2 W\n"
     ]
    },
    {
     "name": "stderr",
     "output_type": "stream",
     "text": [
      "ERROR -1 2104 Market data farm connection is OK:usfarm.nj\n",
      "ERROR -1 2104 Market data farm connection is OK:cashfarm\n",
      "ERROR -1 2104 Market data farm connection is OK:usfarm\n",
      "ERROR -1 2106 HMDS data farm connection is OK:euhmds\n",
      "ERROR -1 2106 HMDS data farm connection is OK:fundfarm\n",
      "ERROR -1 2106 HMDS data farm connection is OK:ushmds\n",
      "ERROR -1 2158 Sec-def data farm connection is OK:secdefnj\n"
     ]
    },
    {
     "name": "stdout",
     "output_type": "stream",
     "text": [
      "duration 2 W\n"
     ]
    },
    {
     "name": "stderr",
     "output_type": "stream",
     "text": [
      "ERROR -1 2104 Market data farm connection is OK:usfarm.nj\n",
      "ERROR -1 2104 Market data farm connection is OK:cashfarm\n",
      "ERROR -1 2104 Market data farm connection is OK:usfarm\n",
      "ERROR -1 2106 HMDS data farm connection is OK:euhmds\n",
      "ERROR -1 2106 HMDS data farm connection is OK:fundfarm\n",
      "ERROR -1 2106 HMDS data farm connection is OK:ushmds\n",
      "ERROR -1 2158 Sec-def data farm connection is OK:secdefnj\n"
     ]
    },
    {
     "name": "stdout",
     "output_type": "stream",
     "text": [
      "duration 2 W\n"
     ]
    },
    {
     "name": "stderr",
     "output_type": "stream",
     "text": [
      "ERROR -1 2104 Market data farm connection is OK:usfarm.nj\n",
      "ERROR -1 2104 Market data farm connection is OK:cashfarm\n",
      "ERROR -1 2104 Market data farm connection is OK:usfarm\n",
      "ERROR -1 2106 HMDS data farm connection is OK:euhmds\n",
      "ERROR -1 2106 HMDS data farm connection is OK:fundfarm\n",
      "ERROR -1 2106 HMDS data farm connection is OK:ushmds\n",
      "ERROR -1 2158 Sec-def data farm connection is OK:secdefnj\n"
     ]
    },
    {
     "name": "stdout",
     "output_type": "stream",
     "text": [
      "duration 2 W\n"
     ]
    }
   ],
   "source": [
    "stocks = [\n",
    "    \"AAPL\",\n",
    "    \"GOOG\",\n",
    "    \"AMZN\",\n",
    "    \"NVDA\",\n",
    "    \"META\",\n",
    "    \"TSLA\",\n",
    "    \"BABA\",\n",
    "    \"CRM\",\n",
    "    \"AMD\",\n",
    "    \"INTC\",\n",
    "    \"ATVI\",\n",
    "    \"PYPL\",\n",
    "    \"TTD\",\n",
    "    \"EA\",\n",
    "    ]\n",
    "for stock in stocks:\n",
    "    download_data_hourly(\n",
    "        stock, \n",
    "        duration=\"2 W\"\n",
    "        )\n"
   ]
  },
  {
   "cell_type": "code",
   "execution_count": null,
   "metadata": {},
   "outputs": [],
   "source": []
  }
 ],
 "metadata": {
  "kernelspec": {
   "display_name": "ib",
   "language": "python",
   "name": "python3"
  },
  "language_info": {
   "codemirror_mode": {
    "name": "ipython",
    "version": 3
   },
   "file_extension": ".py",
   "mimetype": "text/x-python",
   "name": "python",
   "nbconvert_exporter": "python",
   "pygments_lexer": "ipython3",
   "version": "3.10.12"
  },
  "orig_nbformat": 4
 },
 "nbformat": 4,
 "nbformat_minor": 2
}
